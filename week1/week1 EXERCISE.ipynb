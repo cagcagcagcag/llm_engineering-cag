{
 "cells": [
  {
   "cell_type": "markdown",
   "id": "fe12c203-e6a6-452c-a655-afb8a03a4ff5",
   "metadata": {},
   "source": [
    "# End of week 1 exercise\n",
    "\n",
    "To demonstrate your familiarity with OpenAI API, and also Ollama, build a tool that takes a technical question,  \n",
    "and responds with an explanation. This is a tool that you will be able to use yourself during the course!"
   ]
  },
  {
   "cell_type": "code",
   "execution_count": 15,
   "id": "c1070317-3ed9-4659-abe3-828943230e03",
   "metadata": {},
   "outputs": [],
   "source": [
    "# imports\n",
    "from openai import OpenAI\n",
    "import os\n",
    "from dotenv import load_dotenv\n",
    "import requests\n",
    "import json"
   ]
  },
  {
   "cell_type": "code",
   "execution_count": 5,
   "id": "4a456906-915a-4bfd-bb9d-57e505c5093f",
   "metadata": {},
   "outputs": [],
   "source": [
    "# constants\n",
    "\n",
    "MODEL_GPT = 'gpt-4o-mini'\n",
    "MODEL_LLAMA = 'llama3.2'"
   ]
  },
  {
   "cell_type": "code",
   "execution_count": 9,
   "id": "a8d7923c-5f28-4c30-8556-342d7c8497c1",
   "metadata": {},
   "outputs": [],
   "source": [
    "# set up environment\n",
    "load_dotenv(override=True)\n",
    "api_key = os.getenv('OPENAI_API_KEY')\n",
    "\n"
   ]
  },
  {
   "cell_type": "code",
   "execution_count": 10,
   "id": "3f0d0137-52b0-47a8-81a8-11a90a010798",
   "metadata": {},
   "outputs": [],
   "source": [
    "# here is the question; type over this to ask something new\n",
    "\n",
    "question = \"\"\"\n",
    "Please explain what this code does and why. Use markdowns.\n",
    "yield from {book.get(\"author\") for book in books if book.get(\"author\")}\n",
    "\"\"\""
   ]
  },
  {
   "cell_type": "code",
   "execution_count": 12,
   "id": "60ce7000-a4a5-4cce-a261-e75ef45063b4",
   "metadata": {},
   "outputs": [
    {
     "name": "stdout",
     "output_type": "stream",
     "text": [
      "Certainly! Let's break down the provided code step by step.\n",
      "\n",
      "```python\n",
      "yield from {book.get(\"author\") for book in books if book.get(\"author\")}\n",
      "```\n",
      "\n",
      "### Explanation:\n",
      "\n",
      "1. **Context of `yield from`:**\n",
      "   - The expression begins with `yield from`. This is used in a generator function to yield all values from an iterable. It allows you to \"yield\" multiple values from another generator or iterable without having to loop through it manually.\n",
      "\n",
      "2. **Set Comprehension:**\n",
      "   - Inside the `yield from` expression, we have a **set comprehension**:\n",
      "     ```python\n",
      "     {book.get(\"author\") for book in books if book.get(\"author\")}\n",
      "     ```\n",
      "   - A set comprehension is a concise way to create a set by iterating over an iterable (in this case, `books`) and applying conditions.\n",
      "\n",
      "3. **Iterating through `books`:**\n",
      "   - `for book in books`: This part of the comprehension iterates over each element (which we assume are dictionaries representing books) in the `books` collection (e.g., a list of dictionaries).\n",
      "\n",
      "4. **Getting the author:**\n",
      "   - `book.get(\"author\")`: This method tries to fetch the value associated with the key `\"author\"` from each `book`. If the key doesn't exist, it returns `None` (and does not raise an error).\n",
      "\n",
      "5. **Filtering authors:**\n",
      "   - `if book.get(\"author\")`: This condition checks if the author value is not `None` or evaluates to `False`. If an author exists for a book, it proceeds to add this author to the set.\n",
      "\n",
      "6. **Creating a Set of Authors:**\n",
      "   - The result of the set comprehension will be a set containing unique authors from the given books, effectively filtering out any duplicates and ensuring that only authors who are not `None` are included.\n",
      "\n",
      "### Summary:\n",
      "\n",
      "- **Purpose:** The line of code collects and yields unique authors from a list of book dictionaries, ignoring any books that do not have an associated author.\n",
      "- **Why Use It:** This approach ensures that:\n",
      "  - You efficiently aggregate authors into a set (which inherently eliminates duplicates).\n",
      "  - You can easily yield each unique author, allowing for further processing in whatever generator function this line is part of.\n",
      "\n"
     ]
    }
   ],
   "source": [
    "# Get gpt-4o-mini to answer, with streaming\n",
    "openai = OpenAI()\n",
    "\n",
    "for chunk in openai.chat.completions.create(\n",
    "    model=MODEL_GPT,\n",
    "    messages=[\n",
    "        {\"role\": \"system\", \"content\": \"You are a helpful assistant that explains code.\"},\n",
    "        {\"role\": \"user\", \"content\": question}\n",
    "    ],\n",
    "    stream=True\n",
    "):\n",
    "    if chunk.choices[0].delta.content:\n",
    "        # Buffer to accumulate markdown output and print only on newlines\n",
    "        if 'markdown_buffer' not in globals():\n",
    "            markdown_buffer = \"\"\n",
    "        markdown_buffer += chunk.choices[0].delta.content\n",
    "        while \"\\n\" in markdown_buffer:\n",
    "            line, markdown_buffer = markdown_buffer.split(\"\\n\", 1)\n",
    "            print(line)\n",
    "    # Print any remaining buffer at the end (outside the loop, after streaming)\n"
   ]
  },
  {
   "cell_type": "code",
   "execution_count": 16,
   "id": "8f7c8ea8-4082-4ad0-8751-3301adcf6538",
   "metadata": {},
   "outputs": [
    {
     "name": "stdout",
     "output_type": "stream",
     "text": [
      "**Generator Expression Explanation**\n",
      "=====================================\n",
      "\n",
      "The given code is a generator expression that uses the `yield from` keyword.\n",
      "\n",
      "### Code Breakdown\n",
      "```python\n",
      "yield from {book.get(\"author\") for book in books if book.get(\"author\")}\n",
      "```\n",
      "\n",
      "*   `{book.get(\"author\") for book in books if book.get(\"author\")}` is a dictionary comprehension:\n",
      "    *   `for book in books` iterates over each item (`book`) in the `books` collection.\n",
      "    *   `if book.get(\"author\")` filters out any items that don't have an \"author\" key.\n",
      "    *   `book.get(\"author\")` extracts the value associated with the \"author\" key from each book.\n",
      "\n",
      "### What does it do?\n",
      "The code yields a sequence of values extracted from the books that have an author. The `yield from` keyword is used to yield items from a subgenerator (in this case, the dictionary comprehension).\n",
      "\n",
      "Think of it as:\n",
      "\n",
      "1.  Iterate over `books`.\n",
      "2.  For each book, filter out those without an \"author\".\n",
      "3.  Extract the \"author\" value from the remaining books.\n",
      "4.  Yield these author values.\n",
      "\n",
      "### Why use `yield from`?\n",
      "The `yield from` keyword is used to delegate the execution of a subgenerator to another generator (in this case, the dictionary comprehension). It allows you to write more concise code that's easier to read and understand.\n",
      "\n",
      "Using `yield from`, we can:\n",
      "\n",
      "*   Avoid creating an intermediate list or other data structure.\n",
      "*   Write code that's more linear and easier to follow.\n",
      "*   Take advantage of generators' lazy evaluation.\n",
      "\n",
      "### Example Use Case\n",
      "Suppose we have a collection of books and want to extract their authors:\n",
      "```python\n",
      "books = [\n",
      "    {\"title\": \"Book 1\", \"author\": \"Author A\"},\n",
      "    {\"title\": \"Book 2\", \"author\": None},\n",
      "    {\"title\": \"Book 3\", \"author\": \"Author C\"}\n",
      "]\n",
      "\n",
      "authors = yield from {book.get(\"author\") for book in books if book.get(\"author\")}\n",
      "print(authors)  # Output: [\"Author A\", \"Author C\"]\n",
      "```\n",
      "In this example, the `yield from` keyword allows us to write a concise and readable code that extracts the authors from the books."
     ]
    }
   ],
   "source": [
    "# Get Llama 3.2 to answer\n",
    "\n",
    "# Make sure Ollama is running with: ollama run llama3.2\n",
    "response = requests.post('http://localhost:11434/api/generate', json={\n",
    "    'model': 'llama3.2',\n",
    "    'prompt': f\"\"\"You are a helpful assistant that explains code.\n",
    "\n",
    "User question: {question}\n",
    "\n",
    "Please provide a clear explanation:\"\"\",\n",
    "    'stream': True\n",
    "})\n",
    "\n",
    "for line in response.iter_lines():\n",
    "    if line:\n",
    "        data = json.loads(line.decode('utf-8'))\n",
    "        if 'response' in data:\n",
    "            print(data['response'], end='', flush=True)\n",
    "        if data.get('done', False):\n",
    "            break\n"
   ]
  },
  {
   "cell_type": "code",
   "execution_count": null,
   "id": "3a83a6b7",
   "metadata": {},
   "outputs": [],
   "source": []
  }
 ],
 "metadata": {
  "kernelspec": {
   "display_name": ".venv",
   "language": "python",
   "name": "python3"
  },
  "language_info": {
   "codemirror_mode": {
    "name": "ipython",
    "version": 3
   },
   "file_extension": ".py",
   "mimetype": "text/x-python",
   "name": "python",
   "nbconvert_exporter": "python",
   "pygments_lexer": "ipython3",
   "version": "3.12.11"
  }
 },
 "nbformat": 4,
 "nbformat_minor": 5
}
